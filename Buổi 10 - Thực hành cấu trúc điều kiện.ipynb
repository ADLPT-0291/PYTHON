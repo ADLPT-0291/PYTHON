{
 "cells": [
  {
   "cell_type": "markdown",
   "id": "dcdb816e",
   "metadata": {},
   "source": [
    "# Thực hành cấu trúc điều khiển\n",
    "\n",
    "### Bài 1\n",
    "\n",
    "Cho phương trình bậc 2: ax^2 + bx + c = 0\n",
    "\n",
    "Nhập a, b, c\n",
    "\n",
    "Giải và biện luận phương trình trên"
   ]
  },
  {
   "cell_type": "code",
   "execution_count": 44,
   "id": "b5a5c325",
   "metadata": {},
   "outputs": [
    {
     "name": "stdout",
     "output_type": "stream",
     "text": [
      "Nhập giá trị a:5\n",
      "Nhập giá trị b:9\n",
      "Nhập giá trị c:2\n",
      "nghiệp của phương trình là: -0.2596875762567151 -1.5403124237432848\n"
     ]
    }
   ],
   "source": [
    "\n",
    "a=float(input(\"Nhập giá trị a:\"))\n",
    "b=float(input(\"Nhập giá trị b:\"))\n",
    "c=float(input(\"Nhập giá trị c:\"))\n",
    "e=b**2-4*a*c\n",
    "if(e>0):\n",
    "    d1=(-b+(e**(1/2)))/(2*a)\n",
    "    d2=(-b-(e**(1/2)))/(2*a)\n",
    "    print(\"nghiệp của phương trình là:\",d1,d2)\n",
    "if(e==0):\n",
    "    f=-b/(2*a)\n",
    "    print(\"phương trình có nghiệm kép là:\",f)\n",
    "if(e<0): \n",
    "    print(\"Phương trình vô nghiệm\")"
   ]
  },
  {
   "cell_type": "markdown",
   "id": "6f7d329d",
   "metadata": {},
   "source": [
    "### Bài 2\n",
    "\n",
    "Hãy nhập vào một số\n",
    "\n",
    "Xác định coi đó có phải là số nguyên tố hay không"
   ]
  },
  {
   "cell_type": "code",
   "execution_count": null,
   "id": "049c85f5",
   "metadata": {},
   "outputs": [],
   "source": [
    "a=int(input(\"Nhập vào giá trị a:\"))\n",
    "uoc=1\n",
    "dem=0\n",
    "for i in range (a):\n",
    "    if a%uoc==0:\n",
    "        dem+=1\n",
    "    uoc+=1\n",
    "if dem==2:\n",
    "    print(\"a là số nguyên tố\")"
   ]
  },
  {
   "cell_type": "code",
   "execution_count": 1,
   "id": "7feeaa22",
   "metadata": {},
   "outputs": [
    {
     "name": "stdout",
     "output_type": "stream",
     "text": [
      "nhập số a:12\n",
      "khong là số nguyên tố\n"
     ]
    }
   ],
   "source": [
    "a= int(input(\"nhập số a:\"))\n",
    "uoc=1\n",
    "dem=0\n",
    "for i in range(a):\n",
    "    if a%uoc==0: #chỉ in ra những số mà a chia hết\n",
    "        dem+=1\n",
    "    uoc+=1\n",
    "if dem==2:\n",
    "    print(\"là số nguyên tố\")\n",
    "else:\n",
    "    print(\"không là số nguyên tố\")\n"
   ]
  },
  {
   "cell_type": "markdown",
   "id": "75f7717b",
   "metadata": {},
   "source": [
    "### Bài 3\n",
    "\n",
    "Hãy nhập vào số n\n",
    "\n",
    "Hãy đếm số chữ số 0 tận cùng của n giai thừa\n",
    "\n",
    "(Bài này nâng cao, mọi người có thể bỏ qua)"
   ]
  },
  {
   "cell_type": "code",
   "execution_count": null,
   "id": "789e0e76",
   "metadata": {},
   "outputs": [],
   "source": []
  },
  {
   "cell_type": "markdown",
   "id": "29cd6c81",
   "metadata": {},
   "source": [
    "### Bài 4\n",
    "\n",
    "In ra tất cả các số chia hết cho 3 nhỏ hơn 100"
   ]
  },
  {
   "cell_type": "code",
   "execution_count": 28,
   "id": "0b848981",
   "metadata": {},
   "outputs": [
    {
     "name": "stdout",
     "output_type": "stream",
     "text": [
      "0\n",
      "3\n",
      "6\n",
      "9\n",
      "12\n",
      "15\n",
      "18\n",
      "21\n",
      "24\n",
      "27\n",
      "30\n",
      "33\n",
      "36\n",
      "39\n",
      "42\n",
      "45\n",
      "48\n",
      "51\n",
      "54\n",
      "57\n",
      "60\n",
      "63\n",
      "66\n",
      "69\n",
      "72\n",
      "75\n",
      "78\n",
      "81\n",
      "84\n",
      "87\n",
      "90\n",
      "93\n",
      "96\n",
      "99\n"
     ]
    }
   ],
   "source": [
    "c=0\n",
    "for i in range(100):\n",
    "    if c%3 ==0 :\n",
    "        print(c)\n",
    "    c+=1\n",
    "\n"
   ]
  },
  {
   "cell_type": "markdown",
   "id": "04dbf99b",
   "metadata": {},
   "source": [
    "### Bài 5\n",
    "\n",
    "In ra tất cả các số lẻ nhưng không chia hết cho 3 nhỏ hơn 100"
   ]
  },
  {
   "cell_type": "code",
   "execution_count": null,
   "id": "769eb439",
   "metadata": {},
   "outputs": [],
   "source": []
  },
  {
   "cell_type": "markdown",
   "id": "26dd47fb",
   "metadata": {},
   "source": [
    "### Bài 5\n",
    "\n",
    "Tại một cửa hàng nọ có menu như sau:\n",
    "\n",
    "1. Gà rán giá 35k\n",
    "2. Hamburger giá 50k\n",
    "3. Pesi giá 10k\n",
    "\n",
    "Nhập số lượng món hàng cần mua\n",
    "\n",
    "Tính và in ra tổng giá tiền (hiển thị có dấu chấm mỗi 3 chữ số để người dùng để quan sát)\n",
    "\n",
    "Nếu giá trị đơn hàng trên 2 triệu, giảm 10% cho khách, trên 4 triệu, giảm 15%\n",
    "\n",
    "Tính và in ra tổng giá tiền được giảm (hiển thị có dấu chấm mỗi 3 chữ số để người dùng để quan sát)\n",
    "\n",
    "Tính và in ra tổng giá tiền khách cần trả (hiển thị có dấu chấm mỗi 3 chữ số để người dùng để quan sát)\n",
    "\n",
    "In ra dòng chữ \"Cảm ơn quý khách đã mua hàng\""
   ]
  },
  {
   "cell_type": "code",
   "execution_count": 4,
   "id": "8509df1e",
   "metadata": {},
   "outputs": [
    {
     "name": "stdout",
     "output_type": "stream",
     "text": [
      "Chào mừng các bạn đến với cửa hàng của chúng tôi\n",
      "\n",
      "Menu\n",
      "----------------------------------\n",
      "Gà rán: 35.000đ\n",
      "Hamburger: 50.000đ\n",
      "Pesi: 10.000đ\n",
      "----------------------------------\n",
      "\n",
      "----------------------------------\n",
      "Nhập số lượng gà rán cần mua:2\n",
      "Nhập số lượng hamburger cần mua:3\n",
      "Nhập số lượng pesi cần mua:2\n",
      "----------------------------------\n",
      "\n",
      "Tổng: 240.000đ\n",
      "Tổng tiền được giảm: 0đ\n",
      "Tổng tiền cần thanh toán: 240.000đ\n",
      "\n",
      "Cảm ơn quý khách đã mua hàng\n"
     ]
    }
   ],
   "source": [
    "print(\"Chào mừng các bạn đến với cửa hàng của chúng tôi\")\n",
    "print()\n",
    "print(\"Menu\")\n",
    "print(\"----------------------------------\")\n",
    "print(\"Gà rán: 35.000đ\")\n",
    "print(\"Hamburger: 50.000đ\")\n",
    "print(\"Pesi: 10.000đ\")\n",
    "print(\"----------------------------------\")\n",
    "print()\n",
    "print(\"----------------------------------\")\n",
    "garan = int(input(\"Nhập số lượng gà rán cần mua:\"))\n",
    "ham = int(input(\"Nhập số lượng hamburger cần mua:\"))\n",
    "pesi = int(input(\"Nhập số lượng pesi cần mua:\"))\n",
    "print(\"----------------------------------\")\n",
    "print()\n",
    "tong = garan*35000 + ham*50000 + pesi*10000\n",
    "print(\"Tổng:\",f\"{tong:,}\".replace(\",\",\".\")+\"đ\")\n",
    "giamgia = 0\n",
    "if tong > 4000000:\n",
    "    print(\"Bạn được giảm 15%\")\n",
    "    giamgia = int(tong*0.15)\n",
    "elif tong > 2000000:\n",
    "    print(\"Bạn được giảm 10%\")\n",
    "    giamgia = int(tong*0.1)\n",
    "print(\"Tổng tiền được giảm:\",f\"{giamgia:,}\".replace(\",\",\".\")+\"đ\")\n",
    "print(\"Tổng tiền cần thanh toán:\",f\"{tong-giamgia:,}\".replace(\",\",\".\")+\"đ\")\n",
    "print()\n",
    "print(\"Cảm ơn quý khách đã mua hàng\")"
   ]
  },
  {
   "cell_type": "markdown",
   "id": "ab10a1ce",
   "metadata": {},
   "source": [
    "### Bài 6\n",
    "\n",
    "Nhập vào chiều cao (cm) và cân nặng (kg), tính số BMI và xét rồi xin kết quả theo dữ liệu sau:\n",
    "\n",
    "- BMI < 16: Gầy cấp độ III\n",
    "- 16 <= BMI < 17:  Gầy cấp độ II\n",
    "- 17<= BMI < 18.5: Gầy cấp độ I\n",
    "- 18.5 <= BMI < 25: Bình thường\n",
    "- 25 <= BMI < 30: Thừa cân\n",
    "- 30 <= BMI < 35 : Béo phì cấp độ I\n",
    "- 35 <= BMI < 40: Béo phì cấp độ II\n",
    "- BMI > 40: Béo phì cấp độ III"
   ]
  },
  {
   "cell_type": "code",
   "execution_count": 7,
   "id": "1058f441",
   "metadata": {},
   "outputs": [
    {
     "name": "stdout",
     "output_type": "stream",
     "text": [
      "Nhập chiều cao:160\n",
      "Nhập cân nặng:60\n",
      "Bình thường\n"
     ]
    }
   ],
   "source": [
    "a=float(input(\"Nhập chiều cao:\"))\n",
    "b=float(input(\"Nhập cân nặng:\"))\n",
    "BMI=(b)/((a/100)*2)\n",
    "if(BMI<16):\n",
    "    print(\"Gầy cấp độ III\")\n",
    "elif(BMI<17):\n",
    "    print(\"Gầy cấp độ II\")\n",
    "elif(BMI<18.5):\n",
    "    print(\"Gầy cấp độ I\")\n",
    "elif(BMI<25):\n",
    "    print(\"Bình thường\")\n",
    "elif(BMI<30):\n",
    "    print(\"Thừa Cân\")\n",
    "elif(BMI<35):\n",
    "    print(\"Béo cấp độ I\")\n",
    "elif(BMI<40):\n",
    "    print(\"Béo cấp độ II\")\n",
    "else:\n",
    "    print(\"Béo cấp độ III\")"
   ]
  },
  {
   "cell_type": "markdown",
   "id": "f7620342",
   "metadata": {},
   "source": [
    "### Bài 7\n",
    "\n",
    "Nhập ngày, tháng, năm. Hãy tính và in ra màn hình kể từ đầu năm đến ngày vừa nhập là bao nhiêu ngày."
   ]
  },
  {
   "cell_type": "code",
   "execution_count": null,
   "id": "4c57f0a5",
   "metadata": {},
   "outputs": [],
   "source": []
  }
 ],
 "metadata": {
  "kernelspec": {
   "display_name": "Python 3 (ipykernel)",
   "language": "python",
   "name": "python3"
  },
  "language_info": {
   "codemirror_mode": {
    "name": "ipython",
    "version": 3
   },
   "file_extension": ".py",
   "mimetype": "text/x-python",
   "name": "python",
   "nbconvert_exporter": "python",
   "pygments_lexer": "ipython3",
   "version": "3.10.4"
  }
 },
 "nbformat": 4,
 "nbformat_minor": 5
}
