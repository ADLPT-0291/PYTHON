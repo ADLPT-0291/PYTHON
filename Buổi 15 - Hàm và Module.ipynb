{
 "cells": [
  {
   "cell_type": "markdown",
   "id": "73456e5e",
   "metadata": {},
   "source": [
    "# Hàm\n",
    "\n",
    "### Hàm\n",
    "\n",
    "Cú pháp:\n",
    "\n",
    "`def <tên hàm>(<tham số)>:\n",
    "    //Nội dung hàm`\n",
    "\n",
    "Gọi hàm:\n",
    "`<tên hàm>(<giá trị đầu vào>)`\n",
    "\n",
    "Ví dụ:\n",
    "\n",
    "Hãy viết 1 hàm số để tính tổng 2 số đầu vào và in nó ra màn hình"
   ]
  },
  {
   "cell_type": "code",
   "execution_count": 23,
   "id": "af5b9f6d",
   "metadata": {},
   "outputs": [
    {
     "name": "stdout",
     "output_type": "stream",
     "text": [
      "Nhập giá trị a:12\n",
      "Nhập giá trị b:12\n",
      "Tổng 2 giá trị 24\n",
      "Thương 2 giá trị 1.0\n",
      "Hiệu 2 giá trị 0\n",
      "Tích 2 giá trị 144\n"
     ]
    }
   ],
   "source": [
    "\n",
    "def tong():\n",
    "    '''\n",
    "    Hàm tính tổng hai số bất kỳ\n",
    "    '''\n",
    "    a=int(input(\"Nhập giá trị a:\"))\n",
    "    b=int(input(\"Nhập giá trị b:\"))\n",
    "    c=a+b\n",
    "    d=a/b\n",
    "    e=a-b\n",
    "    f=a*b\n",
    "    print(\"Tổng 2 giá trị\", c)\n",
    "    print(\"Thương 2 giá trị\", d)\n",
    "    print(\"Hiệu 2 giá trị\", e)\n",
    "    print(\"Tích 2 giá trị\", f)\n",
    "tong()"
   ]
  },
  {
   "cell_type": "code",
   "execution_count": 8,
   "id": "d6442a26",
   "metadata": {},
   "outputs": [
    {
     "name": "stdout",
     "output_type": "stream",
     "text": [
      "Tổng 2 giá trị 9\n"
     ]
    }
   ],
   "source": [
    "def tong(a,b):\n",
    "    c=a+b\n",
    "    print(\"Tổng 2 giá trị\", c)\n",
    "tong(4,5)"
   ]
  },
  {
   "cell_type": "code",
   "execution_count": 5,
   "id": "0c01ba10",
   "metadata": {
    "scrolled": true
   },
   "outputs": [
    {
     "name": "stdout",
     "output_type": "stream",
     "text": [
      "3\n"
     ]
    },
    {
     "ename": "TypeError",
     "evalue": "'<' not supported between instances of 'str' and 'int'",
     "output_type": "error",
     "traceback": [
      "\u001b[1;31m---------------------------------------------------------------------------\u001b[0m",
      "\u001b[1;31mTypeError\u001b[0m                                 Traceback (most recent call last)",
      "Input \u001b[1;32mIn [5]\u001b[0m, in \u001b[0;36m<cell line: 7>\u001b[1;34m()\u001b[0m\n\u001b[0;32m      5\u001b[0m     \u001b[38;5;28mprint\u001b[39m(so)\n\u001b[0;32m      6\u001b[0m trituyetdoi(\u001b[38;5;241m3\u001b[39m)\u001b[38;5;66;03m# Gọi hàm như thế này thi so sẽ là 5\u001b[39;00m\n\u001b[1;32m----> 7\u001b[0m \u001b[43mtrituyetdoi\u001b[49m\u001b[43m(\u001b[49m\u001b[38;5;124;43m\"\u001b[39;49m\u001b[38;5;124;43mabc\u001b[39;49m\u001b[38;5;124;43m\"\u001b[39;49m\u001b[43m)\u001b[49m\n",
      "Input \u001b[1;32mIn [5]\u001b[0m, in \u001b[0;36mtrituyetdoi\u001b[1;34m(so)\u001b[0m\n\u001b[0;32m      2\u001b[0m \u001b[38;5;28;01mdef\u001b[39;00m \u001b[38;5;21mtrituyetdoi\u001b[39m(so): \u001b[38;5;66;03m#\"so\" là tham số của trị tuyệt đối, so cũng là biến\u001b[39;00m\n\u001b[1;32m----> 3\u001b[0m     \u001b[38;5;28;01mif\u001b[39;00m \u001b[43mso\u001b[49m\u001b[43m \u001b[49m\u001b[38;5;241;43m<\u001b[39;49m\u001b[38;5;241;43m0\u001b[39;49m:\n\u001b[0;32m      4\u001b[0m         so\u001b[38;5;241m=\u001b[39mso\u001b[38;5;241m*\u001b[39m\u001b[38;5;241m-\u001b[39m\u001b[38;5;241m1\u001b[39m\n\u001b[0;32m      5\u001b[0m     \u001b[38;5;28mprint\u001b[39m(so)\n",
      "\u001b[1;31mTypeError\u001b[0m: '<' not supported between instances of 'str' and 'int'"
     ]
    }
   ],
   "source": [
    "#muốn lấy trị tuyệt đối thì nếu số đó là số âm thì ta lấy số đối của số đó ngược lại ta giữ nguyên\n",
    "def trituyetdoi(so): #\"so\" là tham số của trị tuyệt đối, so cũng là biến\n",
    "    if so <0:\n",
    "        so=so*-1\n",
    "    print(so)\n",
    "trituyetdoi(3)# Gọi hàm như thế này thi so sẽ là 5\n",
    "trituyetdoi(\"abc\") #hàm sẽ báo lỗi vì ta so sánh chuỗi với số(dòng số 3)"
   ]
  },
  {
   "cell_type": "code",
   "execution_count": null,
   "id": "793f7cd1",
   "metadata": {},
   "outputs": [],
   "source": []
  },
  {
   "cell_type": "code",
   "execution_count": 30,
   "id": "8458db43",
   "metadata": {},
   "outputs": [
    {
     "name": "stdout",
     "output_type": "stream",
     "text": [
      "\n",
      "    Hàm tính tổng hai số bất kỳ\n",
      "    \n",
      "    \n",
      "    \n"
     ]
    }
   ],
   "source": [
    "import math\n",
    "print(tong.__doc__)# đọc mô tả hàm"
   ]
  },
  {
   "cell_type": "code",
   "execution_count": 32,
   "id": "5e05a20d",
   "metadata": {},
   "outputs": [
    {
     "name": "stdout",
     "output_type": "stream",
     "text": [
      "Return the absolute value of the float x.\n"
     ]
    }
   ],
   "source": [
    "import math\n",
    "print(math.fabs.__doc__)# đọc mô tả hàm"
   ]
  },
  {
   "cell_type": "code",
   "execution_count": 21,
   "id": "7a527594",
   "metadata": {},
   "outputs": [
    {
     "name": "stdout",
     "output_type": "stream",
     "text": [
      "25\n"
     ]
    }
   ],
   "source": [
    "import math\n",
    "x,y=25,29\n",
    "print(min(x,y))"
   ]
  },
  {
   "cell_type": "code",
   "execution_count": 19,
   "id": "78cb0fe4",
   "metadata": {},
   "outputs": [
    {
     "name": "stdout",
     "output_type": "stream",
     "text": [
      "Chào mọi người\n"
     ]
    }
   ],
   "source": [
    "def tong(text):\n",
    "    print(text)\n",
    "tong('Chào mọi người')"
   ]
  },
  {
   "cell_type": "markdown",
   "id": "a7c39f47",
   "metadata": {},
   "source": [
    "### Giá trị trả về của hàm\n",
    "\n",
    "# return\n",
    "\n",
    "Cú pháp:\n",
    "\n",
    "`retrun <giá trị trả về>`\n",
    "\n",
    "##### Lưu ý: Sau khi thực hiện lệnh return, chương trình sẽ thoát khỏi hàm ngay lập tức (những lệnh sau đó không được thực hiện)\n",
    "\n",
    "Ví dụ:\n",
    "\n",
    "Hãy viết 1 hàm trả về giá trị trung bình của 2 số bất kỳ"
   ]
  },
  {
   "cell_type": "code",
   "execution_count": 10,
   "id": "0b527b95",
   "metadata": {},
   "outputs": [
    {
     "name": "stdout",
     "output_type": "stream",
     "text": [
      "3.5\n"
     ]
    }
   ],
   "source": [
    "def average(a,b):\n",
    "    '''\n",
    "    Hàm tính giá trị trung bình\n",
    "    \n",
    "    '''\n",
    "    c=(a+b)/2\n",
    "    return c\n",
    "print(average(a,b))"
   ]
  },
  {
   "cell_type": "code",
   "execution_count": 34,
   "id": "f97b4547",
   "metadata": {},
   "outputs": [
    {
     "name": "stdout",
     "output_type": "stream",
     "text": [
      "8.5\n"
     ]
    }
   ],
   "source": [
    "result=average(12,5)\n",
    "if result>10\n",
    "print(result)"
   ]
  },
  {
   "cell_type": "code",
   "execution_count": 35,
   "id": "b150e1a2",
   "metadata": {},
   "outputs": [
    {
     "data": {
      "text/plain": [
       "8.5"
      ]
     },
     "execution_count": 35,
     "metadata": {},
     "output_type": "execute_result"
    }
   ],
   "source": [
    "average(12,5)"
   ]
  },
  {
   "cell_type": "code",
   "execution_count": 11,
   "id": "0dbedfd5",
   "metadata": {},
   "outputs": [
    {
     "ename": "SyntaxError",
     "evalue": "cannot delete function call (4066769350.py, line 1)",
     "output_type": "error",
     "traceback": [
      "\u001b[1;36m  Input \u001b[1;32mIn [11]\u001b[1;36m\u001b[0m\n\u001b[1;33m    del tong_so(a,b)\u001b[0m\n\u001b[1;37m        ^\u001b[0m\n\u001b[1;31mSyntaxError\u001b[0m\u001b[1;31m:\u001b[0m cannot delete function call\n"
     ]
    }
   ],
   "source": [
    "def tong_so(a,b):\n",
    "    tong = a + b\n",
    "    print(tong)\n",
    "# hàm tong_so không cso lệnh return ----> giá trị của hàm tong_so là NONE\n",
    "\n",
    "a=tong_so(5,7)\n",
    "\n",
    "## Thứ 1: Chương trình cso in hay không, nếu có thì in cái gì\n",
    "## thứ 2: a có giá trị là bao nhiêu?\n",
    "#---> a sẽ là None do hàm không có giá trị (hàm không có lệnh return)"
   ]
  },
  {
   "cell_type": "code",
   "execution_count": 15,
   "id": "8feb8425",
   "metadata": {},
   "outputs": [],
   "source": [
    "def tong_so(a,b):\n",
    "    tong = a + b\n",
    "    return tong\n",
    "    print(tong)\n",
    "a=tong_so(5,7)"
   ]
  },
  {
   "cell_type": "markdown",
   "id": "1d7f8db0",
   "metadata": {},
   "source": [
    "### Bài tập"
   ]
  },
  {
   "cell_type": "markdown",
   "id": "75fb488b",
   "metadata": {},
   "source": [
    "Viết hàm kiểm tra số nguyên tố"
   ]
  },
  {
   "cell_type": "code",
   "execution_count": 62,
   "id": "63701bd7",
   "metadata": {},
   "outputs": [],
   "source": [
    "def kiemtra1():\n",
    "    '''\n",
    "    Kiểm tra số nguyên tố\n",
    "    '''\n",
    "    a=int(input(\"Nhập giá trị a:\"))\n",
    "    nto = 1;\n",
    "    if (a <2):\n",
    "        nto = 0\n",
    "        return nto\n",
    "    for i in range(2, a):\n",
    "        if a % i == 0:\n",
    "            nto = 0\n",
    "            break\n",
    "    return nto"
   ]
  },
  {
   "cell_type": "code",
   "execution_count": 59,
   "id": "d595ba2a",
   "metadata": {},
   "outputs": [],
   "source": [
    "def kiemtra():\n",
    "    '''\n",
    "    Kiểm tra số nguyên tố\n",
    "    '''\n",
    "    if (a <2):\n",
    "        return False\n",
    "    for i in range(2, a):\n",
    "        if a % i == 0:\n",
    "            return False\n",
    "            break\n",
    "    return True"
   ]
  },
  {
   "cell_type": "code",
   "execution_count": 63,
   "id": "1e9cefb5",
   "metadata": {},
   "outputs": [
    {
     "ename": "TypeError",
     "evalue": "kiemtra() takes 0 positional arguments but 1 was given",
     "output_type": "error",
     "traceback": [
      "\u001b[1;31m---------------------------------------------------------------------------\u001b[0m",
      "\u001b[1;31mTypeError\u001b[0m                                 Traceback (most recent call last)",
      "Input \u001b[1;32mIn [63]\u001b[0m, in \u001b[0;36m<cell line: 1>\u001b[1;34m()\u001b[0m\n\u001b[0;32m      1\u001b[0m \u001b[38;5;28;01mfor\u001b[39;00m i \u001b[38;5;129;01min\u001b[39;00m \u001b[38;5;28mrange\u001b[39m(\u001b[38;5;241m1\u001b[39m,\u001b[38;5;241m1000\u001b[39m,\u001b[38;5;241m1\u001b[39m):\n\u001b[1;32m----> 2\u001b[0m     \u001b[38;5;28;01mif\u001b[39;00m \u001b[43mkiemtra\u001b[49m\u001b[43m(\u001b[49m\u001b[43mi\u001b[49m\u001b[43m)\u001b[49m:\n\u001b[0;32m      3\u001b[0m         \u001b[38;5;28mprint\u001b[39m(i,end\u001b[38;5;241m=\u001b[39m\u001b[38;5;124m'\u001b[39m\u001b[38;5;124m'\u001b[39m)\n",
      "\u001b[1;31mTypeError\u001b[0m: kiemtra() takes 0 positional arguments but 1 was given"
     ]
    }
   ],
   "source": [
    "for i in range(1,1000,1):\n",
    "    if kiemtra(i):\n",
    "        print(i,end='')\n"
   ]
  },
  {
   "cell_type": "markdown",
   "id": "7a824b77",
   "metadata": {},
   "source": [
    "# Viết hàm để chuẩn hoá họ tên của một người. CHuẩn hoá có nghĩa là giữa các chữ chỉ có 1 khoảng trắng, các chữ cái đầu của mỗi từ thì phải viết hoa, còn lại là chữ thường. Ví dụ khi gọi hàm với đối số truyền vào là \" NguYỄn THị tHUỲ linh \" thì hàm phải chuẩn hoá và trả về chuỗi là \"Nguyễn Thị Thuỳ Linh\"\n"
   ]
  },
  {
   "cell_type": "code",
   "execution_count": 76,
   "id": "d5bdd4b4",
   "metadata": {},
   "outputs": [
    {
     "name": "stdout",
     "output_type": "stream",
     "text": [
      "Lê Phước Trường\n"
     ]
    }
   ],
   "source": [
    "def std(fullname):\n",
    "    '''Ham chuẩn hóa họ và tên'''\n",
    "    fullname=fullname.strip()\n",
    "    words = fullname.split()\n",
    "    std_name=''\n",
    "    for word in words:\n",
    "        reword = word[0].upper()+word[1:].lower()\n",
    "        std_name+=reword+' '\n",
    "    std_name = std_name[0:-1]\n",
    "    return std_name\n",
    "\n",
    "\n",
    "\n",
    "a=std(\" Lê phưỚc   trƯờng \")\n",
    "print(a)"
   ]
  },
  {
   "cell_type": "code",
   "execution_count": 77,
   "id": "742e9dec",
   "metadata": {},
   "outputs": [
    {
     "name": "stdout",
     "output_type": "stream",
     "text": [
      "Huỳnh Luuuu\n",
      "Tòn Tennnnnnn\n"
     ]
    }
   ],
   "source": [
    "names= ['HuỳnH     Luuuu', '    TòN TennNnnnN']\n",
    "for name in names:\n",
    "        print(std(name))"
   ]
  },
  {
   "cell_type": "code",
   "execution_count": null,
   "id": "0b2ca264",
   "metadata": {},
   "outputs": [],
   "source": [
    "A=std(\" Lê thước   trường \")\n",
    "A=A.strip()\n",
    "words=A.split()\n",
    "print(words)"
   ]
  },
  {
   "cell_type": "code",
   "execution_count": 67,
   "id": "96d67daa",
   "metadata": {
    "scrolled": false
   },
   "outputs": [
    {
     "name": "stdout",
     "output_type": "stream",
     "text": [
      "Nhập vào chuỗi:Lê Phước trường\n",
      "True\n"
     ]
    }
   ],
   "source": [
    "chuyenviethoa()"
   ]
  },
  {
   "cell_type": "markdown",
   "id": "12202d81",
   "metadata": {},
   "source": [
    "# Định nghĩa hàm tìm số lớn nhất , nhỏ nhất của 3 số"
   ]
  },
  {
   "cell_type": "code",
   "execution_count": 78,
   "id": "74e6cf0b",
   "metadata": {},
   "outputs": [],
   "source": [
    "def max_min(a,b,c):\n",
    "    \n",
    "    _max=a if a>b and a>c else b if b>c else c\n",
    "    _min=a if a<b and a<b else b if b<c else c\n",
    "    \n",
    "    return _max,_min\n"
   ]
  },
  {
   "cell_type": "code",
   "execution_count": 80,
   "id": "0f60ca67",
   "metadata": {},
   "outputs": [
    {
     "name": "stdout",
     "output_type": "stream",
     "text": [
      "10 3\n"
     ]
    }
   ],
   "source": [
    "_max, _min =max_min(3,5,10)\n",
    "print(_max,_min)"
   ]
  },
  {
   "cell_type": "code",
   "execution_count": 81,
   "id": "e033e2c3",
   "metadata": {},
   "outputs": [
    {
     "name": "stdout",
     "output_type": "stream",
     "text": [
      "(10, 3)\n",
      "Max =  10\n",
      "Min =  3\n"
     ]
    }
   ],
   "source": [
    "result =max_min(3,5,10)\n",
    "print(result)\n",
    "print('Max = ',result[0])\n",
    "print('Min = ',result[1])"
   ]
  },
  {
   "cell_type": "markdown",
   "id": "221103cf",
   "metadata": {},
   "source": [
    "Nhập vào 3 điểm toán, lý, hóa\n",
    "\n",
    "Hãy viết hàm in điểm trung bung bình rồi tính điểm trung bình của toán lý, toán hóa, lý hóa và toán lý hóa"
   ]
  },
  {
   "cell_type": "code",
   "execution_count": null,
   "id": "2fc5fe41",
   "metadata": {},
   "outputs": [],
   "source": []
  },
  {
   "cell_type": "code",
   "execution_count": 1,
   "id": "1ba1d8ae",
   "metadata": {},
   "outputs": [
    {
     "name": "stdout",
     "output_type": "stream",
     "text": [
      "Nhập số nguyên dương n = 3\n",
      "Giai thừa của 3 là 6\n"
     ]
    }
   ],
   "source": [
    "def tinhgiaithua(n):\n",
    "    giai_thua = 1;\n",
    "    if (n == 0 or n == 1):\n",
    "        return giai_thua;\n",
    "    else:\n",
    "        for i in range(2, n + 1):\n",
    "            giai_thua = giai_thua * i;\n",
    "        return giai_thua;\n",
    " \n",
    "n = int(input(\"Nhập số nguyên dương n = \"));\n",
    "print(\"Giai thừa của\", n, \"là\", tinhgiaithua(n));\n"
   ]
  },
  {
   "cell_type": "markdown",
   "id": "50f43307",
   "metadata": {},
   "source": [
    "Viết hàm đếm số lượng từ của một chuỗi đưa vào"
   ]
  },
  {
   "cell_type": "code",
   "execution_count": null,
   "id": "be785b29",
   "metadata": {},
   "outputs": [],
   "source": []
  },
  {
   "cell_type": "markdown",
   "id": "b4adef40",
   "metadata": {},
   "source": [
    "Viết một hàm vẽ hình tròn, một hàm vẽ hình vuông và một hàm vẽ hình tam giác đều (giá trị đầu vào là a)\n",
    "\n",
    "Tất cả hàm này, bắt đầu từ 1 vị trí, sau khi vẽ ra, con trỏ sẽ tiến tới vị trí tiếp theo, cách vì đầu một khoảng a + 10 theo chiều x từ trái sang"
   ]
  },
  {
   "cell_type": "code",
   "execution_count": null,
   "id": "e405d1d4",
   "metadata": {},
   "outputs": [],
   "source": []
  }
 ],
 "metadata": {
  "kernelspec": {
   "display_name": "Python 3 (ipykernel)",
   "language": "python",
   "name": "python3"
  },
  "language_info": {
   "codemirror_mode": {
    "name": "ipython",
    "version": 3
   },
   "file_extension": ".py",
   "mimetype": "text/x-python",
   "name": "python",
   "nbconvert_exporter": "python",
   "pygments_lexer": "ipython3",
   "version": "3.10.4"
  }
 },
 "nbformat": 4,
 "nbformat_minor": 5
}
