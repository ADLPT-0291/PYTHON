{
 "cells": [
  {
   "cell_type": "code",
   "execution_count": 10,
   "id": "c144763b",
   "metadata": {},
   "outputs": [
    {
     "ename": "SyntaxError",
     "evalue": "expected ':' (1319892318.py, line 3)",
     "output_type": "error",
     "traceback": [
      "\u001b[1;36m  Input \u001b[1;32mIn [10]\u001b[1;36m\u001b[0m\n\u001b[1;33m    if(b==0)\u001b[0m\n\u001b[1;37m            ^\u001b[0m\n\u001b[1;31mSyntaxError\u001b[0m\u001b[1;31m:\u001b[0m expected ':'\n"
     ]
    }
   ],
   "source": [
    "a=input(\"Nhập số nguyên :\")\n",
    "if(a)\n",
    "    if(a>10)\n",
    "        print(\"số chẳn lớn hơn 10\")\n",
    "    else\n",
    "        print(\"số chẳn bé hơn 10\")\n",
    "else\n",
    "    if(a<10)\n",
    "        print(\"số lẻ bé hơn 10\")\n",
    "    else \n",
    "        print(\"Số lẻ lớn hơn 10\")"
   ]
  },
  {
   "cell_type": "code",
   "execution_count": null,
   "id": "91807026",
   "metadata": {},
   "outputs": [],
   "source": []
  }
 ],
 "metadata": {
  "kernelspec": {
   "display_name": "Python 3 (ipykernel)",
   "language": "python",
   "name": "python3"
  },
  "language_info": {
   "codemirror_mode": {
    "name": "ipython",
    "version": 3
   },
   "file_extension": ".py",
   "mimetype": "text/x-python",
   "name": "python",
   "nbconvert_exporter": "python",
   "pygments_lexer": "ipython3",
   "version": "3.10.4"
  }
 },
 "nbformat": 4,
 "nbformat_minor": 5
}
