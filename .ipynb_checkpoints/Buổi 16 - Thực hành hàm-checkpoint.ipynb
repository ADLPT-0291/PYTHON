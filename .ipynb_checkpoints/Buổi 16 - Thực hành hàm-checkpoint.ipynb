{
 "cells": [
  {
   "cell_type": "markdown",
   "id": "028ffec3",
   "metadata": {},
   "source": [
    "# Thực hành hàm\n",
    "\n",
    "### Bài 1\n",
    "\n",
    "Viết hàm có dữ liệu đầu vào là 2 số a và b, số nào lớn hơn thì in bảng cửu chương của số đó"
   ]
  },
  {
   "cell_type": "code",
   "execution_count": null,
   "id": "67ab3fa4",
   "metadata": {},
   "outputs": [],
   "source": [
    "#hàm có nhiều tham số đặt dấu * phía trước (*) "
   ]
  },
  {
   "cell_type": "code",
   "execution_count": 3,
   "id": "1974966b",
   "metadata": {},
   "outputs": [
    {
     "name": "stdout",
     "output_type": "stream",
     "text": [
      "7\n",
      "45\n",
      "21\n"
     ]
    }
   ],
   "source": [
    "def sum (*agrs):\n",
    "    s=0\n",
    "    for i in agrs:\n",
    "        s+=i\n",
    "    return s\n",
    "print(sum(3,4))\n",
    "print(sum(3,4,5,5,5,5,5,6,7))\n",
    "print(sum(3,4,1,4,3,6))"
   ]
  },
  {
   "cell_type": "code",
   "execution_count": 39,
   "id": "423819f9",
   "metadata": {},
   "outputs": [
    {
     "name": "stdout",
     "output_type": "stream",
     "text": [
      "Nhập vào giá trị a:11\n",
      "Nhập vào giá trị b:12\n",
      "12 x 1 = 12\n",
      "12 x 2 = 24\n",
      "12 x 3 = 36\n",
      "12 x 4 = 48\n",
      "12 x 5 = 60\n",
      "12 x 6 = 72\n",
      "12 x 7 = 84\n",
      "12 x 8 = 96\n",
      "12 x 9 = 108\n",
      "12 x 10 = 120\n"
     ]
    }
   ],
   "source": [
    "def bangcuuchuong(c,d):\n",
    "    so=0\n",
    "    if(c>d):\n",
    "        so=c\n",
    "    else:\n",
    "        so=d\n",
    "    for i in range (1,11):\n",
    "        print(so,\"x\",i,\"=\",so*i)\n",
    "    return\n",
    "a=int(input(\"Nhập vào giá trị a:\"))\n",
    "b=int(input(\"Nhập vào giá trị b:\"))\n",
    "bangcuuchuong(a,b)\n"
   ]
  },
  {
   "cell_type": "code",
   "execution_count": 37,
   "id": "131f37bb",
   "metadata": {},
   "outputs": [
    {
     "name": "stdout",
     "output_type": "stream",
     "text": [
      "Nhập vào số thứ 1:13\n",
      "Nhập vào số thứ 2: 2\n",
      "13 x 1 = 13\n",
      "13 x 2 = 26\n",
      "13 x 3 = 39\n",
      "13 x 4 = 52\n",
      "13 x 5 = 65\n",
      "13 x 6 = 78\n",
      "13 x 7 = 91\n",
      "13 x 8 = 104\n",
      "13 x 9 = 117\n",
      "13 x 10 = 130\n",
      "None\n"
     ]
    }
   ],
   "source": [
    "def bcc(s1,s2):    \n",
    "    \"\"\"\n",
    "    Nhập 2 số , số nào lớn tìn in bảng cửu chương đó\n",
    "    \"\"\"\n",
    "    max=0\n",
    "    if s1>s2:\n",
    "        max=s1\n",
    "    else:\n",
    "        max=s2\n",
    "    for i in range (1,11):\n",
    "        print(max,\"x\",i,\"=\",max*i)\n",
    "    return \n",
    "    \n",
    "a = int(input(\"Nhập vào số thứ 1:\"))\n",
    "b= int(input(\"Nhập vào số thứ 2: \"))\n",
    "print(bcc(a,b))"
   ]
  },
  {
   "cell_type": "code",
   "execution_count": null,
   "id": "430d1bc5",
   "metadata": {},
   "outputs": [],
   "source": []
  },
  {
   "cell_type": "markdown",
   "id": "9de8ffaa",
   "metadata": {},
   "source": [
    "### Bài 2\n",
    "\n",
    "Viết hàm `xoachuoi` có dữ liệu đầu vào là 2 chuỗi a và b, hãy tìm trong chuỗi a có chuỗi b hay không, nếu có hãy xóa toán bộ chuỗi b trong a.\n",
    "\n",
    "Sau đó trả về chuỗi a mới\n",
    "\n",
    "Ví dụ:\n",
    "\n",
    "chuoi1 = \"xin chào các bạn, các bạn có khỏe không?\"\n",
    "\n",
    "chuoi2 = \"các bạn\"\n",
    "\n",
    "chuoi3 = xoachuoi(chuoi1,chuoi2)\n",
    "\n",
    "print(chuoi3)\n",
    "\n",
    "Kết quả in ra là:\n",
    "xin chào ,  có khỏe không"
   ]
  },
  {
   "cell_type": "code",
   "execution_count": null,
   "id": "05de1584",
   "metadata": {},
   "outputs": [],
   "source": []
  },
  {
   "cell_type": "markdown",
   "id": "d626394e",
   "metadata": {},
   "source": [
    "### Bài 3\n",
    "\n",
    "Viết hàm `kiemtramatkhau` với dữ liệu đầu vào là 1 chuỗi có công dụng như sau:\n",
    "\n",
    "Kiểm tra xem chuỗi đầu vào có phải là mật khẩu mạnh hay không, nếu có trả về True, nếu không trả về False\n",
    "\n",
    "Mật khẩu mạnh là mật khẩu phải có ít nhất 1 chữ hoa, 1 chữ thường, 1 số và 1 ký tự đặc biệt"
   ]
  },
  {
   "cell_type": "code",
   "execution_count": 12,
   "id": "875d88f5",
   "metadata": {},
   "outputs": [
    {
     "ename": "SyntaxError",
     "evalue": "expected ':' (416536568.py, line 1)",
     "output_type": "error",
     "traceback": [
      "\u001b[1;36m  Input \u001b[1;32mIn [12]\u001b[1;36m\u001b[0m\n\u001b[1;33m    def kiemtra(matkhau)\u001b[0m\n\u001b[1;37m                        ^\u001b[0m\n\u001b[1;31mSyntaxError\u001b[0m\u001b[1;31m:\u001b[0m expected ':'\n"
     ]
    }
   ],
   "source": [
    "def kiemtra(matkhau):\n",
    "'''Hàm kiểm tra mật khẩu mạnh hay yếu'''\n",
    "    chuhoa=0\n",
    "    chuthuong=0\n",
    "    so=0\n",
    "    kytudb=0\n",
    "    for i in matkhau:\n",
    "        if i.isupper():\n",
    "            chuhoa+=1\n",
    "        elif i.islower():\n",
    "            chuthong+=1\n",
    "        elif i.isinstance ( num, int ):\n",
    "            so+=1\n",
    "        else i.isalnum():\n",
    "            kytydb+=1"
   ]
  },
  {
   "cell_type": "code",
   "execution_count": null,
   "id": "04e99de9",
   "metadata": {},
   "outputs": [],
   "source": []
  },
  {
   "cell_type": "code",
   "execution_count": 13,
   "id": "085a4eee",
   "metadata": {},
   "outputs": [
    {
     "name": "stdout",
     "output_type": "stream",
     "text": [
      "Nhập chuỗi:Kontum12@\n",
      "Mật khẩu yếu! Phải có ít nhất một bảng chữ cái thường!\n"
     ]
    }
   ],
   "source": [
    "import re \n",
    "def check (pwd): \n",
    "    if pwd == \"\\ n\" or pwd == \"\":\n",
    "            return \"Mật khẩu không được chứa dòng mới hoặc dấu cách!\" \n",
    "    if 8 <= len (pwd) <= 15: \n",
    "        if not re.search ('[az]', pwd): \n",
    "                    print (\"Mật khẩu yếu! Phải có ít nhất một bảng chữ cái thường!\") \n",
    "        elif not re.search ('[AZ]', pwd): \n",
    "                    print (\"Mật khẩu yếu! Phải có ít nhất một bảng chữ cái viết hoa!\") \n",
    "        elif not re.search ('[0-9]', pwd): \n",
    "                    print (\"Mật khẩu yếu! Tại phải có ít nhất một chữ số! \") \n",
    "        elif not re.search ('[_ @ $]', pwd): \n",
    "                    print (\" Mật khẩu yếu! Phải có ít nhất một ký tự đặc biệt! \") \n",
    "        elif re.search (r' (.) \\ 1 \\ 1 \\ 1 ', pwd): \n",
    "                    print (\"Mật khẩu yếu! Tính năng lặp lại nhiều hơn 3 lần!\") \n",
    "        elif re.search (r' (..) (. *?) \\ 1 ', pwd ): \n",
    "                    print (\"Mật khẩu yếu! Lặp lại mẫu chuỗi!\") \n",
    "        else: print (\"Mật khẩu đã cho là mật khẩu mạnh!\") \n",
    "    else: print (\"Mật khẩu yếu! Mật khẩu phải dài từ 8 đến 15 ký tự!\") \n",
    "        \n",
    "matkhau = input (\"Nhập chuỗi:\") \n",
    "check(matkhau)\n"
   ]
  },
  {
   "cell_type": "markdown",
   "id": "1572568f",
   "metadata": {},
   "source": [
    "### Bài 4\n",
    "\n",
    "Viết hàm có 5 dữ liệu đầu vào là 5 số nguyên, tìm giá trị lớn nhì trong 5 số đó"
   ]
  },
  {
   "cell_type": "code",
   "execution_count": null,
   "id": "876707ae",
   "metadata": {},
   "outputs": [],
   "source": []
  },
  {
   "cell_type": "markdown",
   "id": "974d7da1",
   "metadata": {},
   "source": [
    "### Bài 5\n",
    "\n",
    "Nhập vào 2 cặp tọa độ tâm đường tròn và 2 bán kính R\n",
    "\n",
    "Hãy vẽ 2 hình tròn theo tọa độ và bán kính trên (tọa độ thứ nhất và bán kính thứ nhất là hình tròn thứ nhất, tọa độ thứ 2 với bán kính thứ 2 là hình tròn thứ hai)\n",
    "\n",
    "Viết hàm kiểm tra xem 2 hình tròn trên cắt nhau bao nhiêu điểm"
   ]
  },
  {
   "cell_type": "code",
   "execution_count": null,
   "id": "f7722021",
   "metadata": {},
   "outputs": [],
   "source": []
  },
  {
   "cell_type": "markdown",
   "id": "a2157de8",
   "metadata": {},
   "source": [
    "### Bài 6\n",
    "\n",
    "Nhập vào 2 tọa độ là 2 đỉnh của một hình chữ nhật\n",
    "\n",
    "Sau đó\n",
    "\n",
    "Nhập vào tọa độ tâm đường tròn và bán kính R\n",
    "\n",
    "Hãy vẽ hình hình chữ nhật và đường tròn trên\n",
    "\n",
    "Viết hàm kiểm tra xem đường tròn trên và hình chữ nhật cắt nhau tại bao nhiêu điểm"
   ]
  },
  {
   "cell_type": "code",
   "execution_count": null,
   "id": "e0d7b1a2",
   "metadata": {},
   "outputs": [],
   "source": []
  },
  {
   "cell_type": "markdown",
   "id": "d1491579",
   "metadata": {},
   "source": [
    "### Bài 7\n",
    "\n",
    "Viết hàm kiểm tra số nguyên tố\n",
    "\n",
    "Viết hàm kiểm tra số hoàn hảo\n",
    "\n",
    "Viết hàm kiểm tra số chính phương\n",
    "\n",
    "Viết hàm kiểm tra số Armstrong\n",
    "\n",
    "Nhập vào một chuỗi, hãy lọc và tìm ra những số ở trong chuỗi (2 chữ số liền nhau là một chuỗi)\n",
    "\n",
    "Ví dụ chuỗi: \"AB25SDc5DSjjh52\"\n",
    "\n",
    "Trong chuỗi này ta có 3 số: 25, 5 và 52\n",
    "\n",
    "Sau khi lọc số, dùng các hàm trên để kiểm tra và thực hiện như sau:\n",
    "\n",
    "Cho biến S\n",
    "\n",
    "- Nếu số đó là số nguyên tố, ta thực hiện S += số đó\n",
    "- Nếu số đó là số hoàn hảo, ta thực hiện S -= số đó\n",
    "- Nếu số đó là số chính phương, ta thực hiện S /= số đó\n",
    "- Nếu đó là số Armstrong ta cho S = 0\n",
    "\n",
    "Hãy tính và in S"
   ]
  },
  {
   "cell_type": "code",
   "execution_count": null,
   "id": "0b699e33",
   "metadata": {},
   "outputs": [],
   "source": []
  }
 ],
 "metadata": {
  "kernelspec": {
   "display_name": "Python 3 (ipykernel)",
   "language": "python",
   "name": "python3"
  },
  "language_info": {
   "codemirror_mode": {
    "name": "ipython",
    "version": 3
   },
   "file_extension": ".py",
   "mimetype": "text/x-python",
   "name": "python",
   "nbconvert_exporter": "python",
   "pygments_lexer": "ipython3",
   "version": "3.10.4"
  }
 },
 "nbformat": 4,
 "nbformat_minor": 5
}
