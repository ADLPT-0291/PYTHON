{
 "cells": [
  {
   "cell_type": "code",
   "execution_count": null,
   "id": "2b74dd6b",
   "metadata": {},
   "outputs": [],
   "source": [
    "# Vòng lặp While\n",
    "\n",
    "### Lệnh while\n",
    "\n",
    "`while (điểu kiện):\n",
    "    //Câu lệnh 1\n",
    "//Câu lệnh 2`\n",
    "\n",
    "Sơ đồ tư duy của lệnh while\n",
    "\n",
    "![image.png](attachment:image.png)\n",
    "\n",
    "#### Ví dụ\n",
    "\n",
    "Sử dụng lệnh while và in ra 10 lần câu \"Hello mọi người\""
   ]
  },
  {
   "cell_type": "code",
   "execution_count": null,
   "id": "585ce3e5",
   "metadata": {},
   "outputs": [],
   "source": [
    "a=int(input(\"Nhập giá trị a:\"))\n",
    "while a > 7:\n",
    "    print('heloo')"
   ]
  },
  {
   "cell_type": "code",
   "execution_count": null,
   "id": "0c46390a",
   "metadata": {},
   "outputs": [],
   "source": [
    "while True:\n",
    "    print('hello')"
   ]
  },
  {
   "cell_type": "code",
   "execution_count": null,
   "id": "e0eeaff9",
   "metadata": {},
   "outputs": [],
   "source": [
    "Nhập vào một số nguyên a\n",
    "\n",
    "Cho S(k) = 1 + 2 + 3 + ... + k\n",
    "\n",
    "Lựa chọn k sao cho S(k) > a với k nhỏ nhất\n",
    "\n",
    "In S(k) và k lên màn hình"
   ]
  },
  {
   "cell_type": "code",
   "execution_count": null,
   "id": "2a440b57",
   "metadata": {},
   "outputs": [],
   "source": [
    "a = int(input(\"Nhập vào a:\"))\n",
    "\n",
    "S = 0\n",
    "k = 0\n",
    "### S lớn hơn a thì dừng lại ~~> điều kiện lặp S <= a\n",
    "while S <= a:\n",
    "    k += 1\n",
    "    S += k\n",
    "    \n",
    "print(k,S)"
   ]
  },
  {
   "cell_type": "markdown",
   "id": "c69d294c",
   "metadata": {},
   "source": [
    "### Lệnh Break\n",
    "\n",
    "Cú pháp:\n",
    "\n",
    "`break`\n",
    "\n",
    "Lệnh break sẽ giúp hủy vòng lặp đang thực hiện\n",
    "\n",
    "##### Lưu ý:\n",
    "\n",
    "##### - Lệnh break <b>BẮT BUỘC</b> phải được đặt trong vòng lặp\n",
    "##### - Lệnh break sẽ hủy vòng lặp gần nhất (trong trường hợp có nhiều vòng lắp lồng vào nhau)\n",
    "\n",
    "#### Ví dụ\n",
    "\n",
    "Sử dụng lệnh `while (True)` và break và in ra 10 lần câu \"Hello mọi người\""
   ]
  },
  {
   "cell_type": "code",
   "execution_count": 3,
   "id": "11c8a215",
   "metadata": {},
   "outputs": [
    {
     "name": "stdout",
     "output_type": "stream",
     "text": [
      "hello mọi người\n",
      "hello mọi người\n",
      "hello mọi người\n",
      "hello mọi người\n",
      "hello mọi người\n",
      "hello mọi người\n",
      "hello mọi người\n",
      "hello mọi người\n",
      "hello mọi người\n",
      "hello mọi người\n"
     ]
    }
   ],
   "source": [
    "dem = 0\n",
    "while True:\n",
    "    print('hello mọi người')\n",
    "    dem += 1\n",
    "    if dem == 10:\n",
    "        break"
   ]
  },
  {
   "cell_type": "markdown",
   "id": "08be8b7f",
   "metadata": {},
   "source": [
    "### Lệnh continue\n",
    "\n",
    "Cú pháp:\n",
    "\n",
    "`continue`\n",
    "\n",
    "Lệnh countinue giúp bỏ qua lần lặp hiện tại, tiến tới lần lặp tiếp theo\n",
    "\n",
    "Lưu ý:\n",
    "\n",
    "##### - Lệnh continue <b>BẮT BUỘC</b> phải được đặt trong vòng lặp\n",
    "##### - Lệnh continue sẽ bỏ qua lần lặp trong vòng lặp gần nhất (trong trường hợp có nhiều vòng lắp lồng vào nhau)\n",
    "\n",
    "#### Ví dụ\n",
    "\n",
    "Sử dụng lệnh continue, in ra những số từ 0 và 10, trừ những số 3, 5 và 7"
   ]
  },
  {
   "cell_type": "code",
   "execution_count": null,
   "id": "caa028b2",
   "metadata": {},
   "outputs": [],
   "source": []
  },
  {
   "cell_type": "markdown",
   "id": "fc113824",
   "metadata": {},
   "source": [
    "### Bài tập\n",
    "\n",
    "Nhập vào số a, kiểm tra coi a có phải là số nguyên dương hay không! Nếu a là số nguyên dương, in ra \"Nhập đúng quy định\", nếu a không là số nguyên dương, yêu cầu nhập lại\n",
    "\n",
    "##### Kể từ bài tập này, những bài tập sau của lớp thầy Điền cần phải yêu cầu nhập lại nếu người dùng nhập sai quy định của đề!"
   ]
  },
  {
   "cell_type": "code",
   "execution_count": null,
   "id": "8b48d3c1",
   "metadata": {},
   "outputs": [],
   "source": [
    "a=int(input(\"Nhập giá trị a:\"))\n",
    "while a>0 and a%1==0:\n",
    "    print(\"Nhập đúng quy định\")\n",
    "print(\"Nhập sai quy định. vui lòng nhập lại\")"
   ]
  },
  {
   "cell_type": "code",
   "execution_count": 3,
   "id": "c54a0628",
   "metadata": {},
   "outputs": [
    {
     "name": "stdout",
     "output_type": "stream",
     "text": [
      "Nhập giá trị a: 1.3\n",
      "Sai yêu cầu. Nhậplại giá trị\n",
      "Nhập giá trị a: 3\n",
      "Đúng quy định\n"
     ]
    }
   ],
   "source": [
    "a = float(input(\"Nhập giá trị a: \"))\n",
    "while a%1 != 0 or a < 0:\n",
    "    print(\"Sai yêu cầu. Nhậplại giá trị\")\n",
    "    a = float(input(\"Nhập giá trị a: \"))\n",
    "print(\"Đúng quy định\")"
   ]
  },
  {
   "cell_type": "markdown",
   "id": "e25d3051",
   "metadata": {},
   "source": [
    "Nhập vào một số nguyên dương a, đếm các ước chẳn của số a"
   ]
  },
  {
   "cell_type": "code",
   "execution_count": 10,
   "id": "7e14ae4f",
   "metadata": {
    "scrolled": true
   },
   "outputs": [
    {
     "name": "stdout",
     "output_type": "stream",
     "text": [
      "Nhập giá trị a: 12\n",
      "12.0 ước chẵn: 0\n"
     ]
    }
   ],
   "source": [
    "a = float(input(\"Nhập giá trị a: \"))\n",
    "while a%1 != 0 or a < 0:\n",
    "    a = float(input(\"Nhập giá trị a: \"))\n",
    "dem=0\n",
    "uoc=1\n",
    "while uoc <=a:\n",
    "    if a%uoc==0 and uoc%2==0:\n",
    "        dem+=1\n",
    "    uoc=uoc+1\n",
    "print(a,\"ước chẵn:\",dem)"
   ]
  },
  {
   "cell_type": "code",
   "execution_count": 20,
   "id": "abd7b645",
   "metadata": {},
   "outputs": [
    {
     "name": "stdout",
     "output_type": "stream",
     "text": [
      "Nhập a: 12\n",
      "12 có 4 ước chẵn \n"
     ]
    }
   ],
   "source": [
    "a=int(input(\"Nhập a: \"))\n",
    "#kiểm tra nhập\n",
    "while a!=int(a) or a<0:\n",
    "    a=float(input(\"Nhập a: \"))\n",
    "#đếm ước\n",
    "dem=0\n",
    "uoc=1\n",
    "while uoc<=a:\n",
    "    if a%uoc==0 and uoc%2==0:\n",
    "        dem+=1\n",
    "    uoc=uoc+1\n",
    "print(a,\"có\",dem,\"ước chẵn \")"
   ]
  },
  {
   "cell_type": "markdown",
   "id": "934b7ace",
   "metadata": {},
   "source": [
    "Nhập vào số nguyên dương a và b, in ra những ước chung của a và b"
   ]
  },
  {
   "cell_type": "code",
   "execution_count": null,
   "id": "a0f450f0",
   "metadata": {},
   "outputs": [],
   "source": [
    "a=int(input(\"Nhập a: \"))\n",
    "b=int(input(\"Nhập b: \"))\n",
    "uoc=1\n",
    "while a!=b:\n",
    "    if(a>b):\n",
    "        if a%uoc==0 and b%uoc==0:\n",
    "            print(\"Ước chung của a và b\",uoc)\n",
    "    elif(a==b):\n",
    "        if a%uoc==0 and b%uoc==0:\n",
    "            print(\"Ước chung của a và b\",uoc)\n",
    "    else:\n",
    "        if a%uoc==0 and b%uoc==0:\n",
    "            print(\"Ước chung của a và b\",uoc)"
   ]
  },
  {
   "cell_type": "code",
   "execution_count": null,
   "id": "c13a13d1",
   "metadata": {},
   "outputs": [],
   "source": [
    "a=int(input(\"Nhập a: \"))\n",
    "b=int(input(\"Nhập b: \"))\n",
    "uoc=1\n",
    "while a!=b:\n",
    "    if(a>b):\n",
    "        uoc=uoc+1\n",
    "        if a%uoc==0 and b%uoc==0:\n",
    "            print(\"Ước chung của a và b\",uoc)"
   ]
  },
  {
   "cell_type": "code",
   "execution_count": null,
   "id": "b35d0442",
   "metadata": {},
   "outputs": [],
   "source": [
    "# Nhập vào số nguyên dương a và b, in ra ước chung lón nhất của a và b"
   ]
  },
  {
   "cell_type": "code",
   "execution_count": 7,
   "id": "f8b08df3",
   "metadata": {},
   "outputs": [
    {
     "name": "stdout",
     "output_type": "stream",
     "text": [
      "Nhập a: 9\n",
      "Nhập b: 6\n",
      "Ước chung lớn nhất của a và b 0\n"
     ]
    }
   ],
   "source": [
    "a=int(input(\"Nhập a: \"))\n",
    "b=int(input(\"Nhập b: \"))\n",
    "while a!=b:\n",
    "    if a>b: \n",
    "        a=a-b \n",
    "    else: \n",
    "        b=b-a\n",
    "print(\"Ước chung lớn nhất của a và b\",c)"
   ]
  },
  {
   "cell_type": "markdown",
   "id": "541cbb88",
   "metadata": {},
   "source": [
    "Nhập vào số nguyên dương n, hãy in các số chính phương bé hơn n"
   ]
  },
  {
   "cell_type": "code",
   "execution_count": null,
   "id": "cc609f05",
   "metadata": {},
   "outputs": [],
   "source": []
  },
  {
   "cell_type": "markdown",
   "id": "ea93934b",
   "metadata": {},
   "source": [
    "Số hoàn hảo là số có tổng các ước (không bao gồm nó) của nó bằng chính nó\n",
    "\n",
    "Ví dụ: số 6 là số hoàn hảo vì số 6 có các ước 1, 2, 3. Các ước này cộng lại ra 6.\n",
    "\n",
    "Nhập vào số nguyên dương a, kiểm tra xem a có phải là số hoàn hảo hay không."
   ]
  },
  {
   "cell_type": "code",
   "execution_count": null,
   "id": "a3a7967e",
   "metadata": {},
   "outputs": [],
   "source": []
  },
  {
   "cell_type": "markdown",
   "id": "dda6390e",
   "metadata": {},
   "source": [
    "Nhập vào một số nguyên dương, hãy đếm xem a có bao nhiêu chữ số"
   ]
  },
  {
   "cell_type": "code",
   "execution_count": null,
   "id": "802f4680",
   "metadata": {},
   "outputs": [],
   "source": [
    "a=int(input(\"Nhập a: \"))\n",
    "dem=0\n",
    "b=0\n",
    "while a>10\n",
    "    a=a/10\n",
    "    dem++\n",
    "    b=dem+1\n",
    "    print(\"A có\",b,\"số chẵn\")"
   ]
  },
  {
   "cell_type": "code",
   "execution_count": null,
   "id": "3653c87a",
   "metadata": {},
   "outputs": [],
   "source": []
  },
  {
   "cell_type": "markdown",
   "id": "1854837f",
   "metadata": {},
   "source": [
    "Nhập vào một số nguyên dương a, hãy tính tổng các chữ số của a\n",
    "\n",
    "#### Cách 1 (không dùng chuỗi):"
   ]
  },
  {
   "cell_type": "code",
   "execution_count": null,
   "id": "ee8e1b6c",
   "metadata": {},
   "outputs": [],
   "source": []
  },
  {
   "cell_type": "markdown",
   "id": "ca6d3ba9",
   "metadata": {},
   "source": [
    "#### Cách 2 (dùng chuỗi):"
   ]
  },
  {
   "cell_type": "code",
   "execution_count": null,
   "id": "9f38244d",
   "metadata": {},
   "outputs": [],
   "source": []
  }
 ],
 "metadata": {
  "kernelspec": {
   "display_name": "Python 3 (ipykernel)",
   "language": "python",
   "name": "python3"
  },
  "language_info": {
   "codemirror_mode": {
    "name": "ipython",
    "version": 3
   },
   "file_extension": ".py",
   "mimetype": "text/x-python",
   "name": "python",
   "nbconvert_exporter": "python",
   "pygments_lexer": "ipython3",
   "version": "3.10.4"
  }
 },
 "nbformat": 4,
 "nbformat_minor": 5
}
